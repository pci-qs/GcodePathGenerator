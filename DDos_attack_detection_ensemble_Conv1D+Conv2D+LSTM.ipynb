{
  "nbformat": 4,
  "nbformat_minor": 0,
  "metadata": {
    "colab": {
      "name": "DDos-attack-detection-ensemble-Conv1D+Conv2D+LSTM.ipynb",
      "provenance": [],
      "collapsed_sections": [],
      "toc_visible": true,
      "include_colab_link": true
    },
    "kernelspec": {
      "display_name": "Python 3",
      "language": "python",
      "name": "python3"
    },
    "language_info": {
      "codemirror_mode": {
        "name": "ipython",
        "version": 3
      },
      "file_extension": ".py",
      "mimetype": "text/x-python",
      "name": "python",
      "nbconvert_exporter": "python",
      "pygments_lexer": "ipython3",
      "version": "3.6.6"
    }
  },
  "cells": [
    {
      "cell_type": "markdown",
      "metadata": {
        "id": "view-in-github",
        "colab_type": "text"
      },
      "source": [
        "<a href=\"https://colab.research.google.com/github/pci-qs/GcodePathGenerator/blob/master/DDos_attack_detection_ensemble_Conv1D%2BConv2D%2BLSTM.ipynb\" target=\"_parent\"><img src=\"https://colab.research.google.com/assets/colab-badge.svg\" alt=\"Open In Colab\"/></a>"
      ]
    },
    {
      "cell_type": "markdown",
      "metadata": {
        "id": "CCDxR9-412np"
      },
      "source": [
        "## Introduction\n",
        "This project is about detection of DDoS attacks on SND (Software defined networks).\n",
        "The dataset is CIC-IDS2017."
      ]
    },
    {
      "cell_type": "code",
      "metadata": {
        "id": "i_QNL0Ss12nq"
      },
      "source": [
        "from sklearn.preprocessing import StandardScaler\n",
        "import matplotlib.pyplot as plt # plotting\n",
        "import numpy as np # linear algebra\n",
        "import os # accessing directory structure\n",
        "import pandas as pd # data processing, CSV file I/O (e.g. pd.read_csv)\n",
        "import sklearn\n",
        "import json"
      ],
      "execution_count": null,
      "outputs": []
    },
    {
      "cell_type": "markdown",
      "metadata": {
        "id": "4nplSY1lHvvt"
      },
      "source": [
        "**Mount the google drive**"
      ]
    },
    {
      "cell_type": "code",
      "metadata": {
        "colab": {
          "base_uri": "https://localhost:8080/"
        },
        "id": "IMRatLrv720j",
        "outputId": "8258d6c2-b267-481d-ab66-c555a8a2ae94"
      },
      "source": [
        "from google.colab import drive\n",
        "drive.mount('/content/drive')"
      ],
      "execution_count": null,
      "outputs": [
        {
          "output_type": "stream",
          "text": [
            "Mounted at /content/drive\n"
          ],
          "name": "stdout"
        }
      ]
    },
    {
      "cell_type": "markdown",
      "metadata": {
        "id": "jLPLPSjvH4Lv"
      },
      "source": [
        "**You have to upload CICIDS2017 into your google drive**\n",
        "\n",
        "Here, check if I can load the dataset files"
      ]
    },
    {
      "cell_type": "code",
      "metadata": {
        "colab": {
          "base_uri": "https://localhost:8080/"
        },
        "id": "7pZ6fM2k12nw",
        "outputId": "23491a17-9ad2-43c8-8342-dd67d8c3a181"
      },
      "source": [
        "foldername='/content/drive/My Drive/Colab Notebooks/464228_872432_bundle_archive'\n",
        "for dirname, _, filenames in os.walk(foldername):\n",
        "    for filename in filenames:\n",
        "        print(os.path.join(dirname, filename))\n"
      ],
      "execution_count": null,
      "outputs": [
        {
          "output_type": "stream",
          "text": [
            "/content/drive/My Drive/Colab Notebooks/464228_872432_bundle_archive/MachineLearningCSV.md5\n",
            "/content/drive/My Drive/Colab Notebooks/464228_872432_bundle_archive/MachineLearningCSV/MachineLearningCVE/Friday-WorkingHours-Afternoon-DDos.pcap_ISCX.csv\n",
            "/content/drive/My Drive/Colab Notebooks/464228_872432_bundle_archive/MachineLearningCSV/MachineLearningCVE/Friday-WorkingHours-Afternoon-PortScan.pcap_ISCX.csv\n",
            "/content/drive/My Drive/Colab Notebooks/464228_872432_bundle_archive/MachineLearningCSV/MachineLearningCVE/Friday-WorkingHours-Morning.pcap_ISCX.csv\n",
            "/content/drive/My Drive/Colab Notebooks/464228_872432_bundle_archive/MachineLearningCSV/MachineLearningCVE/Monday-WorkingHours.pcap_ISCX.csv\n",
            "/content/drive/My Drive/Colab Notebooks/464228_872432_bundle_archive/MachineLearningCSV/MachineLearningCVE/Thursday-WorkingHours-Afternoon-Infilteration.pcap_ISCX.csv\n",
            "/content/drive/My Drive/Colab Notebooks/464228_872432_bundle_archive/MachineLearningCSV/MachineLearningCVE/Thursday-WorkingHours-Morning-WebAttacks.pcap_ISCX.csv\n",
            "/content/drive/My Drive/Colab Notebooks/464228_872432_bundle_archive/MachineLearningCSV/MachineLearningCVE/Tuesday-WorkingHours.pcap_ISCX.csv\n",
            "/content/drive/My Drive/Colab Notebooks/464228_872432_bundle_archive/MachineLearningCSV/MachineLearningCVE/Wednesday-workingHours.pcap_ISCX.csv\n"
          ],
          "name": "stdout"
        }
      ]
    },
    {
      "cell_type": "markdown",
      "metadata": {
        "id": "XcJinOVHxA0k"
      },
      "source": [
        "# New Section"
      ]
    },
    {
      "cell_type": "markdown",
      "metadata": {
        "id": "Zd7iObKT12n2"
      },
      "source": [
        "The next hidden code cells define functions for plotting data. Click on the \"Code\" button in the published kernel to reveal the hidden code."
      ]
    },
    {
      "cell_type": "markdown",
      "metadata": {
        "id": "Fdefb2My12n3"
      },
      "source": [
        "## Join All Datas into 1 DataFrame"
      ]
    },
    {
      "cell_type": "code",
      "metadata": {
        "id": "EvrCY0-O12n3"
      },
      "source": [
        "firstData=True\n",
        "for dirname, _, filenames in os.walk(foldername):\n",
        "    for filename in filenames:\n",
        "        if filename[-3:]=='csv':     \n",
        "            if firstData:\n",
        "                dataFrame_Total=pd.read_csv(os.path.join(dirname, filename), delimiter=',')\n",
        "                firstData=False\n",
        "            else:\n",
        "                df=pd.read_csv(os.path.join(dirname, filename), delimiter=',')\n",
        "                dataFrame_Total=pd.concat([dataFrame_Total, df])"
      ],
      "execution_count": null,
      "outputs": []
    },
    {
      "cell_type": "markdown",
      "metadata": {
        "id": "pwXhEyv212n9"
      },
      "source": [
        "## Selection of most significant features"
      ]
    },
    {
      "cell_type": "code",
      "metadata": {
        "colab": {
          "base_uri": "https://localhost:8080/"
        },
        "id": "Rob3EtOh12n9",
        "outputId": "b57404e7-df1a-453b-e4c5-53bbb0d63f19"
      },
      "source": [
        "dataFrame_Total.shape, dataFrame_Total.columns"
      ],
      "execution_count": null,
      "outputs": [
        {
          "output_type": "execute_result",
          "data": {
            "text/plain": [
              "((2830743, 79),\n",
              " Index([' Destination Port', ' Flow Duration', ' Total Fwd Packets',\n",
              "        ' Total Backward Packets', 'Total Length of Fwd Packets',\n",
              "        ' Total Length of Bwd Packets', ' Fwd Packet Length Max',\n",
              "        ' Fwd Packet Length Min', ' Fwd Packet Length Mean',\n",
              "        ' Fwd Packet Length Std', 'Bwd Packet Length Max',\n",
              "        ' Bwd Packet Length Min', ' Bwd Packet Length Mean',\n",
              "        ' Bwd Packet Length Std', 'Flow Bytes/s', ' Flow Packets/s',\n",
              "        ' Flow IAT Mean', ' Flow IAT Std', ' Flow IAT Max', ' Flow IAT Min',\n",
              "        'Fwd IAT Total', ' Fwd IAT Mean', ' Fwd IAT Std', ' Fwd IAT Max',\n",
              "        ' Fwd IAT Min', 'Bwd IAT Total', ' Bwd IAT Mean', ' Bwd IAT Std',\n",
              "        ' Bwd IAT Max', ' Bwd IAT Min', 'Fwd PSH Flags', ' Bwd PSH Flags',\n",
              "        ' Fwd URG Flags', ' Bwd URG Flags', ' Fwd Header Length',\n",
              "        ' Bwd Header Length', 'Fwd Packets/s', ' Bwd Packets/s',\n",
              "        ' Min Packet Length', ' Max Packet Length', ' Packet Length Mean',\n",
              "        ' Packet Length Std', ' Packet Length Variance', 'FIN Flag Count',\n",
              "        ' SYN Flag Count', ' RST Flag Count', ' PSH Flag Count',\n",
              "        ' ACK Flag Count', ' URG Flag Count', ' CWE Flag Count',\n",
              "        ' ECE Flag Count', ' Down/Up Ratio', ' Average Packet Size',\n",
              "        ' Avg Fwd Segment Size', ' Avg Bwd Segment Size',\n",
              "        ' Fwd Header Length.1', 'Fwd Avg Bytes/Bulk', ' Fwd Avg Packets/Bulk',\n",
              "        ' Fwd Avg Bulk Rate', ' Bwd Avg Bytes/Bulk', ' Bwd Avg Packets/Bulk',\n",
              "        'Bwd Avg Bulk Rate', 'Subflow Fwd Packets', ' Subflow Fwd Bytes',\n",
              "        ' Subflow Bwd Packets', ' Subflow Bwd Bytes', 'Init_Win_bytes_forward',\n",
              "        ' Init_Win_bytes_backward', ' act_data_pkt_fwd',\n",
              "        ' min_seg_size_forward', 'Active Mean', ' Active Std', ' Active Max',\n",
              "        ' Active Min', 'Idle Mean', ' Idle Std', ' Idle Max', ' Idle Min',\n",
              "        ' Label'],\n",
              "       dtype='object'))"
            ]
          },
          "metadata": {
            "tags": []
          },
          "execution_count": 5
        }
      ]
    },
    {
      "cell_type": "markdown",
      "metadata": {
        "id": "9jKybIhnIQK7"
      },
      "source": [
        "**Most significant features are selected according to the research paper**"
      ]
    },
    {
      "cell_type": "code",
      "metadata": {
        "id": "T5HiPtvn12oB"
      },
      "source": [
        "feature_Selection=[' Bwd Packet Length Std', ' Average Packet Size', ' Flow Duration', ' Flow IAT Std', ' Label']\n",
        "dataFrame_Selection=dataFrame_Total[feature_Selection]"
      ],
      "execution_count": null,
      "outputs": []
    },
    {
      "cell_type": "code",
      "metadata": {
        "colab": {
          "base_uri": "https://localhost:8080/"
        },
        "id": "TNLfzVVf12oG",
        "outputId": "c639682b-3c56-47c8-8ddf-69ad660cf3fa"
      },
      "source": [
        "dataFrame_Selection.shape"
      ],
      "execution_count": null,
      "outputs": [
        {
          "output_type": "execute_result",
          "data": {
            "text/plain": [
              "(2830743, 5)"
            ]
          },
          "metadata": {
            "tags": []
          },
          "execution_count": 7
        }
      ]
    },
    {
      "cell_type": "code",
      "metadata": {
        "id": "ZTZ-I9pq12oK"
      },
      "source": [
        "dataFrame_Benign_DDos=dataFrame_Selection[(dataFrame_Selection[' Label']=='BENIGN') | (dataFrame_Selection[' Label']=='DDoS')]"
      ],
      "execution_count": null,
      "outputs": []
    },
    {
      "cell_type": "markdown",
      "metadata": {
        "id": "sOyp5tMaIdgv"
      },
      "source": [
        "**Select about 140000 datasets from given dataset**"
      ]
    },
    {
      "cell_type": "code",
      "metadata": {
        "colab": {
          "base_uri": "https://localhost:8080/"
        },
        "id": "SV01ontj12oP",
        "outputId": "d5f45492-efd2-42a8-fab0-c29ba478a476"
      },
      "source": [
        "rng=np.random.RandomState(10)\n",
        "nSelectedSamples=140000\n",
        "nTotalSamples=dataFrame_Benign_DDos.shape[0]\n",
        "randSamples=rng.random(nTotalSamples)\n",
        "dataSet_Selected=dataFrame_Benign_DDos[randSamples<nSelectedSamples/nTotalSamples]\n",
        "dataSet_Selected.shape"
      ],
      "execution_count": null,
      "outputs": [
        {
          "output_type": "execute_result",
          "data": {
            "text/plain": [
              "(140068, 5)"
            ]
          },
          "metadata": {
            "tags": []
          },
          "execution_count": 9
        }
      ]
    },
    {
      "cell_type": "code",
      "metadata": {
        "colab": {
          "base_uri": "https://localhost:8080/",
          "height": 419
        },
        "id": "i1YpsYQg12oT",
        "outputId": "683432e9-f7b8-4262-84b0-120ed4a5c8a4"
      },
      "source": [
        "dataSet_Selected"
      ],
      "execution_count": null,
      "outputs": [
        {
          "output_type": "execute_result",
          "data": {
            "text/html": [
              "<div>\n",
              "<style scoped>\n",
              "    .dataframe tbody tr th:only-of-type {\n",
              "        vertical-align: middle;\n",
              "    }\n",
              "\n",
              "    .dataframe tbody tr th {\n",
              "        vertical-align: top;\n",
              "    }\n",
              "\n",
              "    .dataframe thead th {\n",
              "        text-align: right;\n",
              "    }\n",
              "</style>\n",
              "<table border=\"1\" class=\"dataframe\">\n",
              "  <thead>\n",
              "    <tr style=\"text-align: right;\">\n",
              "      <th></th>\n",
              "      <th>Bwd Packet Length Std</th>\n",
              "      <th>Average Packet Size</th>\n",
              "      <th>Flow Duration</th>\n",
              "      <th>Flow IAT Std</th>\n",
              "      <th>Label</th>\n",
              "    </tr>\n",
              "  </thead>\n",
              "  <tbody>\n",
              "    <tr>\n",
              "      <th>1</th>\n",
              "      <td>0.0</td>\n",
              "      <td>9.000000</td>\n",
              "      <td>109</td>\n",
              "      <td>0.000000</td>\n",
              "      <td>BENIGN</td>\n",
              "    </tr>\n",
              "    <tr>\n",
              "      <th>12</th>\n",
              "      <td>0.0</td>\n",
              "      <td>34.000000</td>\n",
              "      <td>4</td>\n",
              "      <td>0.000000</td>\n",
              "      <td>BENIGN</td>\n",
              "    </tr>\n",
              "    <tr>\n",
              "      <th>38</th>\n",
              "      <td>0.0</td>\n",
              "      <td>9.000000</td>\n",
              "      <td>1</td>\n",
              "      <td>0.000000</td>\n",
              "      <td>BENIGN</td>\n",
              "    </tr>\n",
              "    <tr>\n",
              "      <th>64</th>\n",
              "      <td>0.0</td>\n",
              "      <td>9.000000</td>\n",
              "      <td>1</td>\n",
              "      <td>0.000000</td>\n",
              "      <td>BENIGN</td>\n",
              "    </tr>\n",
              "    <tr>\n",
              "      <th>70</th>\n",
              "      <td>0.0</td>\n",
              "      <td>9.000000</td>\n",
              "      <td>32</td>\n",
              "      <td>0.000000</td>\n",
              "      <td>BENIGN</td>\n",
              "    </tr>\n",
              "    <tr>\n",
              "      <th>...</th>\n",
              "      <td>...</td>\n",
              "      <td>...</td>\n",
              "      <td>...</td>\n",
              "      <td>...</td>\n",
              "      <td>...</td>\n",
              "    </tr>\n",
              "    <tr>\n",
              "      <th>692612</th>\n",
              "      <td>0.0</td>\n",
              "      <td>88.500000</td>\n",
              "      <td>21091</td>\n",
              "      <td>12131.016050</td>\n",
              "      <td>BENIGN</td>\n",
              "    </tr>\n",
              "    <tr>\n",
              "      <th>692624</th>\n",
              "      <td>0.0</td>\n",
              "      <td>68.166667</td>\n",
              "      <td>135379</td>\n",
              "      <td>40030.837900</td>\n",
              "      <td>BENIGN</td>\n",
              "    </tr>\n",
              "    <tr>\n",
              "      <th>692647</th>\n",
              "      <td>0.0</td>\n",
              "      <td>75.500000</td>\n",
              "      <td>31529</td>\n",
              "      <td>18198.946570</td>\n",
              "      <td>BENIGN</td>\n",
              "    </tr>\n",
              "    <tr>\n",
              "      <th>692671</th>\n",
              "      <td>0.0</td>\n",
              "      <td>9.000000</td>\n",
              "      <td>54</td>\n",
              "      <td>0.000000</td>\n",
              "      <td>BENIGN</td>\n",
              "    </tr>\n",
              "    <tr>\n",
              "      <th>692674</th>\n",
              "      <td>0.0</td>\n",
              "      <td>88.500000</td>\n",
              "      <td>213</td>\n",
              "      <td>79.322128</td>\n",
              "      <td>BENIGN</td>\n",
              "    </tr>\n",
              "  </tbody>\n",
              "</table>\n",
              "<p>140068 rows × 5 columns</p>\n",
              "</div>"
            ],
            "text/plain": [
              "         Bwd Packet Length Std   Average Packet Size  ...   Flow IAT Std   Label\n",
              "1                          0.0              9.000000  ...       0.000000  BENIGN\n",
              "12                         0.0             34.000000  ...       0.000000  BENIGN\n",
              "38                         0.0              9.000000  ...       0.000000  BENIGN\n",
              "64                         0.0              9.000000  ...       0.000000  BENIGN\n",
              "70                         0.0              9.000000  ...       0.000000  BENIGN\n",
              "...                        ...                   ...  ...            ...     ...\n",
              "692612                     0.0             88.500000  ...   12131.016050  BENIGN\n",
              "692624                     0.0             68.166667  ...   40030.837900  BENIGN\n",
              "692647                     0.0             75.500000  ...   18198.946570  BENIGN\n",
              "692671                     0.0              9.000000  ...       0.000000  BENIGN\n",
              "692674                     0.0             88.500000  ...      79.322128  BENIGN\n",
              "\n",
              "[140068 rows x 5 columns]"
            ]
          },
          "metadata": {
            "tags": []
          },
          "execution_count": 10
        }
      ]
    },
    {
      "cell_type": "markdown",
      "metadata": {
        "id": "6l-CbRbvIoLa"
      },
      "source": [
        "**Vectorize the column of Label into 1 or 0**"
      ]
    },
    {
      "cell_type": "code",
      "metadata": {
        "colab": {
          "base_uri": "https://localhost:8080/"
        },
        "id": "qpsc1tYu12oX",
        "outputId": "8e270449-d5b1-4cf1-ad24-97b9a416533b"
      },
      "source": [
        "dataSet_Selected[' Label']=dataSet_Selected[' Label'].where(dataSet_Selected[' Label']=='BENIGN', 1)"
      ],
      "execution_count": null,
      "outputs": [
        {
          "output_type": "stream",
          "text": [
            "/usr/local/lib/python3.6/dist-packages/ipykernel_launcher.py:1: SettingWithCopyWarning: \n",
            "A value is trying to be set on a copy of a slice from a DataFrame.\n",
            "Try using .loc[row_indexer,col_indexer] = value instead\n",
            "\n",
            "See the caveats in the documentation: https://pandas.pydata.org/pandas-docs/stable/user_guide/indexing.html#returning-a-view-versus-a-copy\n",
            "  \"\"\"Entry point for launching an IPython kernel.\n"
          ],
          "name": "stderr"
        }
      ]
    },
    {
      "cell_type": "code",
      "metadata": {
        "colab": {
          "base_uri": "https://localhost:8080/"
        },
        "id": "u9uzXFw812oa",
        "outputId": "53eb3ed0-6064-43f0-ccce-6e728d288f16"
      },
      "source": [
        "dataSet_Selected[' Label']=dataSet_Selected[' Label'].where(dataSet_Selected[' Label']==1, 0)"
      ],
      "execution_count": null,
      "outputs": [
        {
          "output_type": "stream",
          "text": [
            "/usr/local/lib/python3.6/dist-packages/ipykernel_launcher.py:1: SettingWithCopyWarning: \n",
            "A value is trying to be set on a copy of a slice from a DataFrame.\n",
            "Try using .loc[row_indexer,col_indexer] = value instead\n",
            "\n",
            "See the caveats in the documentation: https://pandas.pydata.org/pandas-docs/stable/user_guide/indexing.html#returning-a-view-versus-a-copy\n",
            "  \"\"\"Entry point for launching an IPython kernel.\n"
          ],
          "name": "stderr"
        }
      ]
    },
    {
      "cell_type": "code",
      "metadata": {
        "colab": {
          "base_uri": "https://localhost:8080/"
        },
        "id": "YL0Cm39w12og",
        "outputId": "b2e11aab-ba07-497b-ab93-b7990befe542"
      },
      "source": [
        "dataSet_Selected, dataSet_Selected[' Label'].value_counts()"
      ],
      "execution_count": null,
      "outputs": [
        {
          "output_type": "execute_result",
          "data": {
            "text/plain": [
              "(         Bwd Packet Length Std   Average Packet Size  ...   Flow IAT Std   Label\n",
              " 1                          0.0              9.000000  ...       0.000000       0\n",
              " 12                         0.0             34.000000  ...       0.000000       0\n",
              " 38                         0.0              9.000000  ...       0.000000       0\n",
              " 64                         0.0              9.000000  ...       0.000000       0\n",
              " 70                         0.0              9.000000  ...       0.000000       0\n",
              " ...                        ...                   ...  ...            ...     ...\n",
              " 692612                     0.0             88.500000  ...   12131.016050       0\n",
              " 692624                     0.0             68.166667  ...   40030.837900       0\n",
              " 692647                     0.0             75.500000  ...   18198.946570       0\n",
              " 692671                     0.0              9.000000  ...       0.000000       0\n",
              " 692674                     0.0             88.500000  ...      79.322128       0\n",
              " \n",
              " [140068 rows x 5 columns], 0    132516\n",
              " 1      7552\n",
              " Name:  Label, dtype: int64)"
            ]
          },
          "metadata": {
            "tags": []
          },
          "execution_count": 13
        }
      ]
    },
    {
      "cell_type": "code",
      "metadata": {
        "colab": {
          "base_uri": "https://localhost:8080/",
          "height": 419
        },
        "id": "9PFocWKl12oj",
        "outputId": "968d749e-0f83-4bdb-ed13-4649749d9a6a"
      },
      "source": [
        "dataset_X=dataSet_Selected.iloc[:, :4]\n",
        "dataset_X"
      ],
      "execution_count": null,
      "outputs": [
        {
          "output_type": "execute_result",
          "data": {
            "text/html": [
              "<div>\n",
              "<style scoped>\n",
              "    .dataframe tbody tr th:only-of-type {\n",
              "        vertical-align: middle;\n",
              "    }\n",
              "\n",
              "    .dataframe tbody tr th {\n",
              "        vertical-align: top;\n",
              "    }\n",
              "\n",
              "    .dataframe thead th {\n",
              "        text-align: right;\n",
              "    }\n",
              "</style>\n",
              "<table border=\"1\" class=\"dataframe\">\n",
              "  <thead>\n",
              "    <tr style=\"text-align: right;\">\n",
              "      <th></th>\n",
              "      <th>Bwd Packet Length Std</th>\n",
              "      <th>Average Packet Size</th>\n",
              "      <th>Flow Duration</th>\n",
              "      <th>Flow IAT Std</th>\n",
              "    </tr>\n",
              "  </thead>\n",
              "  <tbody>\n",
              "    <tr>\n",
              "      <th>1</th>\n",
              "      <td>0.0</td>\n",
              "      <td>9.000000</td>\n",
              "      <td>109</td>\n",
              "      <td>0.000000</td>\n",
              "    </tr>\n",
              "    <tr>\n",
              "      <th>12</th>\n",
              "      <td>0.0</td>\n",
              "      <td>34.000000</td>\n",
              "      <td>4</td>\n",
              "      <td>0.000000</td>\n",
              "    </tr>\n",
              "    <tr>\n",
              "      <th>38</th>\n",
              "      <td>0.0</td>\n",
              "      <td>9.000000</td>\n",
              "      <td>1</td>\n",
              "      <td>0.000000</td>\n",
              "    </tr>\n",
              "    <tr>\n",
              "      <th>64</th>\n",
              "      <td>0.0</td>\n",
              "      <td>9.000000</td>\n",
              "      <td>1</td>\n",
              "      <td>0.000000</td>\n",
              "    </tr>\n",
              "    <tr>\n",
              "      <th>70</th>\n",
              "      <td>0.0</td>\n",
              "      <td>9.000000</td>\n",
              "      <td>32</td>\n",
              "      <td>0.000000</td>\n",
              "    </tr>\n",
              "    <tr>\n",
              "      <th>...</th>\n",
              "      <td>...</td>\n",
              "      <td>...</td>\n",
              "      <td>...</td>\n",
              "      <td>...</td>\n",
              "    </tr>\n",
              "    <tr>\n",
              "      <th>692612</th>\n",
              "      <td>0.0</td>\n",
              "      <td>88.500000</td>\n",
              "      <td>21091</td>\n",
              "      <td>12131.016050</td>\n",
              "    </tr>\n",
              "    <tr>\n",
              "      <th>692624</th>\n",
              "      <td>0.0</td>\n",
              "      <td>68.166667</td>\n",
              "      <td>135379</td>\n",
              "      <td>40030.837900</td>\n",
              "    </tr>\n",
              "    <tr>\n",
              "      <th>692647</th>\n",
              "      <td>0.0</td>\n",
              "      <td>75.500000</td>\n",
              "      <td>31529</td>\n",
              "      <td>18198.946570</td>\n",
              "    </tr>\n",
              "    <tr>\n",
              "      <th>692671</th>\n",
              "      <td>0.0</td>\n",
              "      <td>9.000000</td>\n",
              "      <td>54</td>\n",
              "      <td>0.000000</td>\n",
              "    </tr>\n",
              "    <tr>\n",
              "      <th>692674</th>\n",
              "      <td>0.0</td>\n",
              "      <td>88.500000</td>\n",
              "      <td>213</td>\n",
              "      <td>79.322128</td>\n",
              "    </tr>\n",
              "  </tbody>\n",
              "</table>\n",
              "<p>140068 rows × 4 columns</p>\n",
              "</div>"
            ],
            "text/plain": [
              "         Bwd Packet Length Std  ...   Flow IAT Std\n",
              "1                          0.0  ...       0.000000\n",
              "12                         0.0  ...       0.000000\n",
              "38                         0.0  ...       0.000000\n",
              "64                         0.0  ...       0.000000\n",
              "70                         0.0  ...       0.000000\n",
              "...                        ...  ...            ...\n",
              "692612                     0.0  ...   12131.016050\n",
              "692624                     0.0  ...   40030.837900\n",
              "692647                     0.0  ...   18198.946570\n",
              "692671                     0.0  ...       0.000000\n",
              "692674                     0.0  ...      79.322128\n",
              "\n",
              "[140068 rows x 4 columns]"
            ]
          },
          "metadata": {
            "tags": []
          },
          "execution_count": 14
        }
      ]
    },
    {
      "cell_type": "markdown",
      "metadata": {
        "id": "U9CphGd9I1-J"
      },
      "source": [
        "##Scaling of the datasets for input to Model##\n",
        "\n",
        "Here, the MinMaxScaler of sklearn will be used"
      ]
    },
    {
      "cell_type": "code",
      "metadata": {
        "id": "LPaLkznM12on"
      },
      "source": [
        "from sklearn.preprocessing import MinMaxScaler"
      ],
      "execution_count": null,
      "outputs": []
    },
    {
      "cell_type": "code",
      "metadata": {
        "colab": {
          "base_uri": "https://localhost:8080/"
        },
        "id": "kA21Clk912oq",
        "outputId": "badf9537-e3ba-49b8-f2da-6d071b873362"
      },
      "source": [
        "scaler=MinMaxScaler()\n",
        "scaler.fit(dataset_X)"
      ],
      "execution_count": null,
      "outputs": [
        {
          "output_type": "execute_result",
          "data": {
            "text/plain": [
              "MinMaxScaler(copy=True, feature_range=(0, 1))"
            ]
          },
          "metadata": {
            "tags": []
          },
          "execution_count": 16
        }
      ]
    },
    {
      "cell_type": "code",
      "metadata": {
        "id": "cJGagIKW12ot"
      },
      "source": [
        "datasetScaled=scaler.transform(dataset_X)"
      ],
      "execution_count": null,
      "outputs": []
    },
    {
      "cell_type": "code",
      "metadata": {
        "colab": {
          "base_uri": "https://localhost:8080/"
        },
        "id": "f4Z3r7b412ox",
        "outputId": "2e14d4a3-659d-4830-e310-15fbae0db2ee"
      },
      "source": [
        "# Check if the scaling is done right\n",
        "iCol=3\n",
        "datasetScaled[:, iCol].min(), datasetScaled[:, iCol].max(), datasetScaled[:, iCol].std(), "
      ],
      "execution_count": null,
      "outputs": [
        {
          "output_type": "execute_result",
          "data": {
            "text/plain": [
              "(0.0, 1.0, 0.07049241575293048)"
            ]
          },
          "metadata": {
            "tags": []
          },
          "execution_count": 18
        }
      ]
    },
    {
      "cell_type": "code",
      "metadata": {
        "id": "jeVNBAV212o0"
      },
      "source": [
        "X_1d=datasetScaled.reshape(datasetScaled.shape[0], 4,1) # X is just the reshaped dataset for CNN Conv1D input\n",
        "X_2d=datasetScaled.reshape(datasetScaled.shape[0], 2,2,1) # X is just the reshaped dataset for CNN Conv2D input\n",
        "\n",
        "# LSTM needs an input data shape larger than 2-dimension.\n",
        "# datasetScaled is two-dimensional, but every subset of the datasetScaled is one-dimensinoal.\n",
        "# So we have to reshape subset(4,) into 2-dimensional (2,2,)\n",
        "X_LSTM=datasetScaled.reshape(datasetScaled.shape[0], 2,2)\n",
        "y=np.array(dataSet_Selected[' Label']).astype(float) # label for CNN input"
      ],
      "execution_count": null,
      "outputs": []
    },
    {
      "cell_type": "markdown",
      "metadata": {
        "id": "ZUH7qnN4JjrB"
      },
      "source": [
        "##Split dataset into the train & test datasets##\n",
        "\n",
        "train_test_split of sklearn.model_selection is a good tool to split the datasets"
      ]
    },
    {
      "cell_type": "code",
      "metadata": {
        "id": "YTI13_sZ12o3"
      },
      "source": [
        "# Split dataset into train datas and test datas\n",
        "# random_state are set in order to reproduce same splitting\n",
        "from sklearn.model_selection import train_test_split\n",
        "X_1d_train, X_1d_test, y_train, y_test=train_test_split(X_1d, y, test_size=0.2, random_state=42)\n",
        "X_2d_train, X_2d_test, y_train, y_test=train_test_split(X_2d, y, test_size=0.2, random_state=42)\n",
        "X_LSTM_train, X_LSTM_test, y_train, y_test=train_test_split(X_LSTM, y, test_size=0.2, random_state=42)"
      ],
      "execution_count": 40,
      "outputs": []
    },
    {
      "cell_type": "markdown",
      "metadata": {
        "id": "SbZ5H5ccJyzj"
      },
      "source": [
        "##Build the Ensemble CNN model##"
      ]
    },
    {
      "cell_type": "code",
      "metadata": {
        "id": "xdIgi2cX12o8"
      },
      "source": [
        "from keras import models\n",
        "from keras import layers"
      ],
      "execution_count": null,
      "outputs": []
    },
    {
      "cell_type": "code",
      "metadata": {
        "id": "AozqcE5qWIqn"
      },
      "source": [
        "nNetsForConv1d=3 # Number of the Conv1D nets for ensembl \n",
        "nNetsForConv2d=3 # Number of the Conv2D nets for ensemble\n",
        "nNetsForLSTM=3   # Number of the LSTM nets for ensemble\n",
        "nNets= nNetsForConv1d + nNetsForConv2d + nNetsForLSTM"
      ],
      "execution_count": null,
      "outputs": []
    },
    {
      "cell_type": "code",
      "metadata": {
        "id": "fDk6C16mXluV"
      },
      "source": [
        "epochs=30 # Number of epochs for model.fit \n",
        "model=[0]*(nNets)\n",
        "history=[0]* (nNets)"
      ],
      "execution_count": null,
      "outputs": []
    },
    {
      "cell_type": "markdown",
      "metadata": {
        "id": "PdXUjNQiVyro"
      },
      "source": [
        "**Models for CONV1D**\n",
        "\n",
        "please set nNetsForConv1D to set number of conv1d models to ensemble"
      ]
    },
    {
      "cell_type": "code",
      "metadata": {
        "id": "4X1BXgGc12o_"
      },
      "source": [
        "kernel_size=3\n",
        "for i in range(nNetsForConv1d):\n",
        "    model[i]=models.Sequential()\n",
        "    model[i].add(layers.Conv1D(32, kernel_size, activation='relu', padding='same', input_shape=(4, 1)))\n",
        "    model[i].add(layers.Conv1D(64, kernel_size, padding='same', activation='relu'))\n",
        "    model[i].add(layers.MaxPooling1D(3)) # Removed the MaxPooling2D because the dimension of the data does not fit\n",
        "    model[i].add(layers.Conv1D(32, 1, padding='same', activation='relu'))\n",
        "    # model[i].add(layers.MaxPooling2D(1)) # Removed the MaxPooling2D because the dimension of the data does not fit\n",
        "    model[i].add(layers.Flatten())\n",
        "    model[i].add(layers.Dense(32, activation='relu'))\n",
        "    model[i].add(layers.Dense(1, activation='sigmoid'))\n",
        "    model[i].compile(optimizer='rmsprop', loss='binary_crossentropy', metrics=['acc'])"
      ],
      "execution_count": null,
      "outputs": []
    },
    {
      "cell_type": "code",
      "metadata": {
        "colab": {
          "base_uri": "https://localhost:8080/"
        },
        "id": "yIcpwJrD12pC",
        "outputId": "b6667aad-1a1d-4f3a-826b-dd7d663953d2"
      },
      "source": [
        "model[0].summary()"
      ],
      "execution_count": null,
      "outputs": [
        {
          "output_type": "stream",
          "text": [
            "Model: \"sequential\"\n",
            "_________________________________________________________________\n",
            "Layer (type)                 Output Shape              Param #   \n",
            "=================================================================\n",
            "conv1d (Conv1D)              (None, 4, 32)             128       \n",
            "_________________________________________________________________\n",
            "conv1d_1 (Conv1D)            (None, 4, 64)             6208      \n",
            "_________________________________________________________________\n",
            "max_pooling1d (MaxPooling1D) (None, 1, 64)             0         \n",
            "_________________________________________________________________\n",
            "conv1d_2 (Conv1D)            (None, 1, 32)             2080      \n",
            "_________________________________________________________________\n",
            "flatten (Flatten)            (None, 32)                0         \n",
            "_________________________________________________________________\n",
            "dense (Dense)                (None, 32)                1056      \n",
            "_________________________________________________________________\n",
            "dense_1 (Dense)              (None, 1)                 33        \n",
            "=================================================================\n",
            "Total params: 9,505\n",
            "Trainable params: 9,505\n",
            "Non-trainable params: 0\n",
            "_________________________________________________________________\n"
          ],
          "name": "stdout"
        }
      ]
    },
    {
      "cell_type": "markdown",
      "metadata": {
        "id": "QKN4fQ_rOn4l"
      },
      "source": [
        "**Models for Conv2D**"
      ]
    },
    {
      "cell_type": "code",
      "metadata": {
        "id": "jYozR0dwXq7e"
      },
      "source": [
        "for i in range(nNetsForConv1d, nNetsForConv1d+nNetsForConv2d):\n",
        "    model[i]=models.Sequential()\n",
        "    model[i].add(layers.Conv2D(32, (2,2), activation='relu', padding='same', input_shape=(2, 2, 1)))\n",
        "    model[i].add(layers.Conv2D(64, (2,2), padding='same', activation='relu'))\n",
        "    model[i].add(layers.MaxPooling2D(2)) # Removed the MaxPooling2D because the dimension of the data does not fit\n",
        "    model[i].add(layers.Conv2D(32, (1,1), padding='same', activation='relu'))    \n",
        "    # model[i].add(layers.MaxPooling2D(1)) # Removed the MaxPooling2D because the dimension of the data does not fit\n",
        "    model[i].add(layers.Flatten())\n",
        "    model[i].add(layers.Dense(32, activation='relu'))\n",
        "    model[i].add(layers.Dense(1, activation='sigmoid'))\n",
        "    model[i].compile(optimizer='rmsprop', loss='binary_crossentropy', metrics=['acc'])"
      ],
      "execution_count": null,
      "outputs": []
    },
    {
      "cell_type": "code",
      "metadata": {
        "colab": {
          "base_uri": "https://localhost:8080/"
        },
        "id": "a6Jyup94YORe",
        "outputId": "49a7d080-dcc5-4ea1-a9cf-79a78d244553"
      },
      "source": [
        "model[nNetsForConv1d].summary()"
      ],
      "execution_count": null,
      "outputs": [
        {
          "output_type": "stream",
          "text": [
            "Model: \"sequential_9\"\n",
            "_________________________________________________________________\n",
            "Layer (type)                 Output Shape              Param #   \n",
            "=================================================================\n",
            "conv2d_18 (Conv2D)           (None, 2, 2, 32)          160       \n",
            "_________________________________________________________________\n",
            "conv2d_19 (Conv2D)           (None, 2, 2, 64)          8256      \n",
            "_________________________________________________________________\n",
            "max_pooling2d_6 (MaxPooling2 (None, 1, 1, 64)          0         \n",
            "_________________________________________________________________\n",
            "conv2d_20 (Conv2D)           (None, 1, 1, 32)          2080      \n",
            "_________________________________________________________________\n",
            "flatten_9 (Flatten)          (None, 32)                0         \n",
            "_________________________________________________________________\n",
            "dense_18 (Dense)             (None, 32)                1056      \n",
            "_________________________________________________________________\n",
            "dense_19 (Dense)             (None, 1)                 33        \n",
            "=================================================================\n",
            "Total params: 11,585\n",
            "Trainable params: 11,585\n",
            "Non-trainable params: 0\n",
            "_________________________________________________________________\n"
          ],
          "name": "stdout"
        }
      ]
    },
    {
      "cell_type": "markdown",
      "metadata": {
        "id": "ccJ80t0OOuh2"
      },
      "source": [
        "**Models for LSTM**"
      ]
    },
    {
      "cell_type": "code",
      "metadata": {
        "id": "CM8FEMq9OmFn"
      },
      "source": [
        "for i in range(nNetsForConv1d + nNetsForConv2d, nNets):\n",
        "    model[i]=models.Sequential()\n",
        "    # input_shape of (2,2) is what we reshaped before\n",
        "    model[i].add(layers.LSTM(64, input_shape=(2,2))) \n",
        "    # activation function is sigmoid because we have a classification problem, filter size=1\n",
        "    model[i].add(layers.Dense(1, activation='sigmoid')) \n",
        "    # optimizer and loss, metrics are usual functions which are most used, most working.\n",
        "    model[i].compile(optimizer='rmsprop', loss='binary_crossentropy', metrics=['acc']) "
      ],
      "execution_count": null,
      "outputs": []
    },
    {
      "cell_type": "code",
      "metadata": {
        "colab": {
          "base_uri": "https://localhost:8080/"
        },
        "id": "atFnjN0DPVxn",
        "outputId": "747985a8-d658-4ad6-f528-ddbd6399e555"
      },
      "source": [
        "model[nNetsForConv1d + nNetsForConv2d].summary()"
      ],
      "execution_count": null,
      "outputs": [
        {
          "output_type": "stream",
          "text": [
            "Model: \"sequential_12\"\n",
            "_________________________________________________________________\n",
            "Layer (type)                 Output Shape              Param #   \n",
            "=================================================================\n",
            "lstm (LSTM)                  (None, 64)                17152     \n",
            "_________________________________________________________________\n",
            "dense_24 (Dense)             (None, 1)                 65        \n",
            "=================================================================\n",
            "Total params: 17,217\n",
            "Trainable params: 17,217\n",
            "Non-trainable params: 0\n",
            "_________________________________________________________________\n"
          ],
          "name": "stdout"
        }
      ]
    },
    {
      "cell_type": "markdown",
      "metadata": {
        "id": "tFo1hviHKWRS"
      },
      "source": [
        "# Now train the Ensemble CNN model"
      ]
    },
    {
      "cell_type": "markdown",
      "metadata": {
        "id": "lMeAKZwGZZGr"
      },
      "source": [
        "**Train Conv1D models first**"
      ]
    },
    {
      "cell_type": "code",
      "metadata": {
        "colab": {
          "background_save": true,
          "base_uri": "https://localhost:8080/"
        },
        "id": "gvhEXg7h12pF",
        "outputId": "9646f624-1b5e-4efe-d43b-d31e068e62c3"
      },
      "source": [
        "for i in range(nNetsForConv1d):\n",
        "    X_train, X_val, y_train, y_val=train_test_split(X_1d, y, test_size=0.2, random_state=i*10)\n",
        "    history[i]=model[i].fit(X_train, y_train, batch_size=128, epochs=epochs, validation_data=(X_val, y_val), verbose=True)\n",
        "    model_json = model[i].to_json()\n",
        "    with open(\"model\"+str(i)+\".json\", \"w\") as json_file:\n",
        "        json_file.write(model_json)\n",
        "        # serialize weights to HDF5\n",
        "    model[i].save_weights(\"modelw\"+str(i)+\".h5\")\n",
        "    print(\"Saved model to disk:\", i)"
      ],
      "execution_count": null,
      "outputs": [
        {
          "output_type": "stream",
          "text": [
            "Epoch 1/30\n",
            "876/876 [==============================] - 4s 4ms/step - loss: 0.0990 - acc: 0.9773 - val_loss: 0.0568 - val_acc: 0.9809\n",
            "Epoch 2/30\n",
            "876/876 [==============================] - 3s 4ms/step - loss: 0.0477 - acc: 0.9837 - val_loss: 0.0430 - val_acc: 0.9855\n",
            "Epoch 3/30\n",
            "876/876 [==============================] - 4s 4ms/step - loss: 0.0430 - acc: 0.9834 - val_loss: 0.0395 - val_acc: 0.9848\n",
            "Epoch 4/30\n",
            "876/876 [==============================] - 4s 4ms/step - loss: 0.0371 - acc: 0.9849 - val_loss: 0.1082 - val_acc: 0.9684\n",
            "Epoch 5/30\n",
            "876/876 [==============================] - 3s 4ms/step - loss: 0.0318 - acc: 0.9882 - val_loss: 0.0288 - val_acc: 0.9886\n",
            "Epoch 6/30\n",
            "876/876 [==============================] - 4s 4ms/step - loss: 0.0293 - acc: 0.9897 - val_loss: 0.0262 - val_acc: 0.9902\n",
            "Epoch 7/30\n",
            "876/876 [==============================] - 4s 4ms/step - loss: 0.0261 - acc: 0.9910 - val_loss: 0.0231 - val_acc: 0.9923\n",
            "Epoch 8/30\n",
            "876/876 [==============================] - 4s 4ms/step - loss: 0.0234 - acc: 0.9921 - val_loss: 0.0187 - val_acc: 0.9935\n",
            "Epoch 9/30\n",
            "876/876 [==============================] - 3s 4ms/step - loss: 0.0213 - acc: 0.9931 - val_loss: 0.0170 - val_acc: 0.9938\n",
            "Epoch 10/30\n",
            "876/876 [==============================] - 4s 4ms/step - loss: 0.0199 - acc: 0.9940 - val_loss: 0.0250 - val_acc: 0.9885\n",
            "Epoch 11/30\n",
            "876/876 [==============================] - 4s 4ms/step - loss: 0.0187 - acc: 0.9943 - val_loss: 0.0184 - val_acc: 0.9945\n",
            "Epoch 12/30\n",
            "876/876 [==============================] - 4s 4ms/step - loss: 0.0183 - acc: 0.9944 - val_loss: 0.0540 - val_acc: 0.9811\n",
            "Epoch 13/30\n",
            "876/876 [==============================] - 4s 4ms/step - loss: 0.0176 - acc: 0.9949 - val_loss: 0.0157 - val_acc: 0.9949\n",
            "Epoch 14/30\n",
            "876/876 [==============================] - 3s 4ms/step - loss: 0.0173 - acc: 0.9949 - val_loss: 0.0161 - val_acc: 0.9953\n",
            "Epoch 15/30\n",
            "876/876 [==============================] - 3s 4ms/step - loss: 0.0171 - acc: 0.9950 - val_loss: 0.0144 - val_acc: 0.9960\n",
            "Epoch 16/30\n",
            "876/876 [==============================] - 3s 4ms/step - loss: 0.0166 - acc: 0.9950 - val_loss: 0.0147 - val_acc: 0.9965\n",
            "Epoch 17/30\n",
            "876/876 [==============================] - 3s 4ms/step - loss: 0.0161 - acc: 0.9954 - val_loss: 0.0248 - val_acc: 0.9925\n",
            "Epoch 18/30\n",
            "876/876 [==============================] - 3s 4ms/step - loss: 0.0162 - acc: 0.9955 - val_loss: 0.0145 - val_acc: 0.9969\n",
            "Epoch 19/30\n",
            "876/876 [==============================] - 3s 4ms/step - loss: 0.0158 - acc: 0.9955 - val_loss: 0.0140 - val_acc: 0.9967\n",
            "Epoch 20/30\n",
            "876/876 [==============================] - 4s 4ms/step - loss: 0.0155 - acc: 0.9958 - val_loss: 0.0141 - val_acc: 0.9968\n",
            "Epoch 21/30\n",
            "876/876 [==============================] - 3s 4ms/step - loss: 0.0160 - acc: 0.9958 - val_loss: 0.0125 - val_acc: 0.9965\n",
            "Epoch 22/30\n",
            "876/876 [==============================] - 3s 4ms/step - loss: 0.0153 - acc: 0.9961 - val_loss: 0.0194 - val_acc: 0.9946\n",
            "Epoch 23/30\n",
            "876/876 [==============================] - 3s 4ms/step - loss: 0.0151 - acc: 0.9958 - val_loss: 0.0625 - val_acc: 0.9806\n",
            "Epoch 24/30\n",
            "876/876 [==============================] - 4s 4ms/step - loss: 0.0151 - acc: 0.9962 - val_loss: 0.0228 - val_acc: 0.9932\n",
            "Epoch 25/30\n",
            "876/876 [==============================] - 3s 4ms/step - loss: 0.0151 - acc: 0.9964 - val_loss: 0.0137 - val_acc: 0.9967\n",
            "Epoch 26/30\n",
            "876/876 [==============================] - 3s 4ms/step - loss: 0.0143 - acc: 0.9962 - val_loss: 0.0135 - val_acc: 0.9966\n",
            "Epoch 27/30\n",
            "876/876 [==============================] - 4s 4ms/step - loss: 0.0142 - acc: 0.9964 - val_loss: 0.0127 - val_acc: 0.9966\n",
            "Epoch 28/30\n",
            "876/876 [==============================] - 4s 4ms/step - loss: 0.0139 - acc: 0.9965 - val_loss: 0.0211 - val_acc: 0.9936\n",
            "Epoch 29/30\n",
            "876/876 [==============================] - 4s 4ms/step - loss: 0.0137 - acc: 0.9965 - val_loss: 0.0130 - val_acc: 0.9973\n",
            "Epoch 30/30\n",
            "876/876 [==============================] - 4s 4ms/step - loss: 0.0139 - acc: 0.9966 - val_loss: 0.0115 - val_acc: 0.9970\n",
            "Saved model to disk: 0\n",
            "Epoch 1/30\n",
            "876/876 [==============================] - 4s 4ms/step - loss: 0.1092 - acc: 0.9762 - val_loss: 0.0565 - val_acc: 0.9813\n",
            "Epoch 2/30\n",
            "876/876 [==============================] - 3s 4ms/step - loss: 0.0482 - acc: 0.9843 - val_loss: 0.0436 - val_acc: 0.9876\n",
            "Epoch 3/30\n",
            "876/876 [==============================] - 4s 4ms/step - loss: 0.0454 - acc: 0.9850 - val_loss: 0.0399 - val_acc: 0.9877\n",
            "Epoch 4/30\n",
            "876/876 [==============================] - 3s 4ms/step - loss: 0.0426 - acc: 0.9852 - val_loss: 0.0531 - val_acc: 0.9812\n",
            "Epoch 5/30\n",
            "876/876 [==============================] - 3s 4ms/step - loss: 0.0373 - acc: 0.9865 - val_loss: 0.0309 - val_acc: 0.9879\n",
            "Epoch 6/30\n",
            "876/876 [==============================] - 3s 4ms/step - loss: 0.0316 - acc: 0.9888 - val_loss: 0.0239 - val_acc: 0.9911\n",
            "Epoch 7/30\n",
            "876/876 [==============================] - 4s 4ms/step - loss: 0.0272 - acc: 0.9907 - val_loss: 0.0411 - val_acc: 0.9829\n",
            "Epoch 8/30\n",
            "876/876 [==============================] - 3s 4ms/step - loss: 0.0247 - acc: 0.9918 - val_loss: 0.0204 - val_acc: 0.9939\n",
            "Epoch 9/30\n",
            "876/876 [==============================] - 3s 4ms/step - loss: 0.0231 - acc: 0.9927 - val_loss: 0.0280 - val_acc: 0.9887\n",
            "Epoch 10/30\n",
            "876/876 [==============================] - 3s 4ms/step - loss: 0.0217 - acc: 0.9931 - val_loss: 0.0170 - val_acc: 0.9939\n",
            "Epoch 11/30\n",
            "876/876 [==============================] - 3s 4ms/step - loss: 0.0203 - acc: 0.9934 - val_loss: 0.0243 - val_acc: 0.9922\n",
            "Epoch 12/30\n",
            "876/876 [==============================] - 3s 4ms/step - loss: 0.0196 - acc: 0.9940 - val_loss: 0.0233 - val_acc: 0.9899\n",
            "Epoch 13/30\n",
            "876/876 [==============================] - 3s 4ms/step - loss: 0.0191 - acc: 0.9938 - val_loss: 0.0157 - val_acc: 0.9938\n",
            "Epoch 14/30\n",
            "876/876 [==============================] - 3s 4ms/step - loss: 0.0190 - acc: 0.9942 - val_loss: 0.0161 - val_acc: 0.9955\n",
            "Epoch 15/30\n",
            "876/876 [==============================] - 4s 4ms/step - loss: 0.0182 - acc: 0.9944 - val_loss: 0.0153 - val_acc: 0.9936\n",
            "Epoch 16/30\n",
            "876/876 [==============================] - 4s 4ms/step - loss: 0.0183 - acc: 0.9941 - val_loss: 0.0121 - val_acc: 0.9965\n",
            "Epoch 17/30\n",
            "876/876 [==============================] - 3s 4ms/step - loss: 0.0181 - acc: 0.9941 - val_loss: 0.0132 - val_acc: 0.9959\n",
            "Epoch 18/30\n",
            "876/876 [==============================] - 3s 4ms/step - loss: 0.0185 - acc: 0.9941 - val_loss: 0.0150 - val_acc: 0.9941\n",
            "Epoch 19/30\n",
            "876/876 [==============================] - 4s 4ms/step - loss: 0.0188 - acc: 0.9941 - val_loss: 0.0137 - val_acc: 0.9958\n",
            "Epoch 20/30\n",
            "876/876 [==============================] - 4s 5ms/step - loss: 0.0183 - acc: 0.9943 - val_loss: 0.0135 - val_acc: 0.9956\n",
            "Epoch 21/30\n",
            "876/876 [==============================] - 4s 4ms/step - loss: 0.0183 - acc: 0.9943 - val_loss: 0.0143 - val_acc: 0.9960\n",
            "Epoch 22/30\n",
            "876/876 [==============================] - 3s 4ms/step - loss: 0.0184 - acc: 0.9941 - val_loss: 0.0639 - val_acc: 0.9808\n",
            "Epoch 23/30\n",
            "876/876 [==============================] - 3s 4ms/step - loss: 0.0187 - acc: 0.9940 - val_loss: 0.0137 - val_acc: 0.9959\n",
            "Epoch 24/30\n",
            "876/876 [==============================] - 3s 4ms/step - loss: 0.0186 - acc: 0.9942 - val_loss: 0.0184 - val_acc: 0.9916\n",
            "Epoch 25/30\n",
            "876/876 [==============================] - 3s 4ms/step - loss: 0.0181 - acc: 0.9943 - val_loss: 0.0155 - val_acc: 0.9967\n",
            "Epoch 26/30\n",
            "876/876 [==============================] - 3s 4ms/step - loss: 0.0182 - acc: 0.9944 - val_loss: 0.0199 - val_acc: 0.9915\n",
            "Epoch 27/30\n",
            "876/876 [==============================] - 3s 4ms/step - loss: 0.0176 - acc: 0.9943 - val_loss: 0.0220 - val_acc: 0.9942\n",
            "Epoch 28/30\n",
            "876/876 [==============================] - 3s 4ms/step - loss: 0.0188 - acc: 0.9942 - val_loss: 0.0152 - val_acc: 0.9959\n",
            "Epoch 29/30\n",
            "876/876 [==============================] - 3s 4ms/step - loss: 0.0184 - acc: 0.9943 - val_loss: 0.0170 - val_acc: 0.9938\n",
            "Epoch 30/30\n",
            "876/876 [==============================] - 3s 4ms/step - loss: 0.0185 - acc: 0.9939 - val_loss: 0.0238 - val_acc: 0.9871\n",
            "Saved model to disk: 1\n",
            "Epoch 1/30\n",
            "876/876 [==============================] - 4s 4ms/step - loss: 0.0975 - acc: 0.9772 - val_loss: 0.0502 - val_acc: 0.9855\n",
            "Epoch 2/30\n",
            "876/876 [==============================] - 4s 4ms/step - loss: 0.0491 - acc: 0.9844 - val_loss: 0.0461 - val_acc: 0.9862\n",
            "Epoch 3/30\n",
            "876/876 [==============================] - 4s 4ms/step - loss: 0.0464 - acc: 0.9847 - val_loss: 0.0641 - val_acc: 0.9788\n",
            "Epoch 4/30\n",
            "876/876 [==============================] - 3s 4ms/step - loss: 0.0443 - acc: 0.9847 - val_loss: 0.0440 - val_acc: 0.9847\n",
            "Epoch 5/30\n",
            "876/876 [==============================] - 4s 4ms/step - loss: 0.0406 - acc: 0.9854 - val_loss: 0.0380 - val_acc: 0.9861\n",
            "Epoch 6/30\n",
            "876/876 [==============================] - 4s 4ms/step - loss: 0.0347 - acc: 0.9873 - val_loss: 0.0375 - val_acc: 0.9854\n",
            "Epoch 7/30\n",
            "876/876 [==============================] - 4s 5ms/step - loss: 0.0301 - acc: 0.9895 - val_loss: 0.0241 - val_acc: 0.9913\n",
            "Epoch 8/30\n",
            "876/876 [==============================] - 4s 5ms/step - loss: 0.0266 - acc: 0.9915 - val_loss: 0.0216 - val_acc: 0.9925\n",
            "Epoch 9/30\n",
            "876/876 [==============================] - 4s 5ms/step - loss: 0.0251 - acc: 0.9923 - val_loss: 0.0199 - val_acc: 0.9942\n",
            "Epoch 10/30\n",
            "876/876 [==============================] - 5s 5ms/step - loss: 0.0232 - acc: 0.9929 - val_loss: 0.0243 - val_acc: 0.9897\n",
            "Epoch 11/30\n",
            "876/876 [==============================] - 4s 5ms/step - loss: 0.0210 - acc: 0.9938 - val_loss: 0.0285 - val_acc: 0.9884\n",
            "Epoch 12/30\n",
            "876/876 [==============================] - 4s 4ms/step - loss: 0.0200 - acc: 0.9943 - val_loss: 0.0174 - val_acc: 0.9938\n",
            "Epoch 13/30\n",
            "876/876 [==============================] - 4s 4ms/step - loss: 0.0193 - acc: 0.9942 - val_loss: 0.0138 - val_acc: 0.9964\n",
            "Epoch 14/30\n",
            "876/876 [==============================] - 4s 4ms/step - loss: 0.0185 - acc: 0.9947 - val_loss: 0.0140 - val_acc: 0.9961\n",
            "Epoch 15/30\n",
            "876/876 [==============================] - 3s 4ms/step - loss: 0.0177 - acc: 0.9952 - val_loss: 0.0163 - val_acc: 0.9935\n",
            "Epoch 16/30\n",
            "876/876 [==============================] - 4s 4ms/step - loss: 0.0174 - acc: 0.9950 - val_loss: 0.0193 - val_acc: 0.9941\n",
            "Epoch 17/30\n",
            "876/876 [==============================] - 4s 4ms/step - loss: 0.0168 - acc: 0.9951 - val_loss: 0.0187 - val_acc: 0.9941\n",
            "Epoch 18/30\n",
            "876/876 [==============================] - 4s 4ms/step - loss: 0.0166 - acc: 0.9955 - val_loss: 0.0132 - val_acc: 0.9970\n",
            "Epoch 19/30\n",
            "876/876 [==============================] - 3s 4ms/step - loss: 0.0161 - acc: 0.9955 - val_loss: 0.0142 - val_acc: 0.9943\n",
            "Epoch 20/30\n",
            "876/876 [==============================] - 3s 4ms/step - loss: 0.0160 - acc: 0.9954 - val_loss: 0.0122 - val_acc: 0.9963\n",
            "Epoch 21/30\n",
            "876/876 [==============================] - 3s 4ms/step - loss: 0.0162 - acc: 0.9955 - val_loss: 0.0118 - val_acc: 0.9970\n",
            "Epoch 22/30\n",
            "876/876 [==============================] - 3s 4ms/step - loss: 0.0158 - acc: 0.9955 - val_loss: 0.0206 - val_acc: 0.9935\n",
            "Epoch 23/30\n",
            "876/876 [==============================] - 4s 4ms/step - loss: 0.0155 - acc: 0.9958 - val_loss: 0.0260 - val_acc: 0.9905\n",
            "Epoch 24/30\n",
            "876/876 [==============================] - 3s 4ms/step - loss: 0.0156 - acc: 0.9958 - val_loss: 0.0154 - val_acc: 0.9936\n",
            "Epoch 25/30\n",
            "876/876 [==============================] - 3s 4ms/step - loss: 0.0152 - acc: 0.9959 - val_loss: 0.0120 - val_acc: 0.9968\n",
            "Epoch 26/30\n",
            "876/876 [==============================] - 3s 4ms/step - loss: 0.0153 - acc: 0.9959 - val_loss: 0.0163 - val_acc: 0.9939\n",
            "Epoch 27/30\n",
            "876/876 [==============================] - 3s 4ms/step - loss: 0.0147 - acc: 0.9960 - val_loss: 0.0324 - val_acc: 0.9884\n",
            "Epoch 28/30\n",
            "876/876 [==============================] - 4s 4ms/step - loss: 0.0145 - acc: 0.9958 - val_loss: 0.0113 - val_acc: 0.9976\n",
            "Epoch 29/30\n",
            "876/876 [==============================] - 4s 4ms/step - loss: 0.0142 - acc: 0.9963 - val_loss: 0.0120 - val_acc: 0.9962\n",
            "Epoch 30/30\n",
            "876/876 [==============================] - 3s 4ms/step - loss: 0.0145 - acc: 0.9961 - val_loss: 0.0109 - val_acc: 0.9968\n",
            "Saved model to disk: 2\n"
          ],
          "name": "stdout"
        }
      ]
    },
    {
      "cell_type": "markdown",
      "metadata": {
        "id": "o8jKGc2iZf9P"
      },
      "source": [
        "**Train Conv2D models**"
      ]
    },
    {
      "cell_type": "code",
      "metadata": {
        "id": "oeVLUgqlZSM3"
      },
      "source": [
        "for i in range(nNetsForConv1d, nNetsForConv1d + nNetsForConv2d):\n",
        "    X_train, X_val, y_train, y_val=train_test_split(X_2d, y, test_size=0.2, random_state=i*10)\n",
        "    history[i]=model[i].fit(X_train, y_train, batch_size=128, epochs=epochs, validation_data=(X_val, y_val), verbose=True)\n",
        "    model_json = model[i].to_json()\n",
        "    with open(\"model\"+str(i)+\".json\", \"w\") as json_file:\n",
        "        json_file.write(model_json)\n",
        "        # serialize weights to HDF5\n",
        "    model[i].save_weights(\"modelw\"+str(i)+\".h5\")\n",
        "    print(\"Saved model to disk:\", i)"
      ],
      "execution_count": null,
      "outputs": []
    },
    {
      "cell_type": "markdown",
      "metadata": {
        "id": "yQhRWI87QgYe"
      },
      "source": [
        "**Train LSTM models**"
      ]
    },
    {
      "cell_type": "code",
      "metadata": {
        "id": "MnGtU6jdQfMY",
        "colab": {
          "base_uri": "https://localhost:8080/"
        },
        "outputId": "e1b8b268-4edb-4399-98e8-8fdf2580a961"
      },
      "source": [
        "for i in range(nNetsForConv1d + nNetsForConv2d, nNets):\n",
        "    X_train, X_val, y_train, y_val=train_test_split(X_LSTM, y, test_size=0.2, random_state=i*10)\n",
        "    history[i]=model[i].fit(X_train, y_train, batch_size=128, epochs=epochs, validation_data=(X_val, y_val), verbose=True)\n",
        "    model_json = model[i].to_json()\n",
        "    with open(\"model\"+str(i)+\".json\", \"w\") as json_file:\n",
        "        json_file.write(model_json)\n",
        "        # serialize weights to HDF5\n",
        "    model[i].save_weights(\"modelw\"+str(i)+\".h5\")\n",
        "    print(\"Saved model to disk:\", i)"
      ],
      "execution_count": 41,
      "outputs": [
        {
          "output_type": "stream",
          "text": [
            "Epoch 1/30\n",
            "876/876 [==============================] - 5s 5ms/step - loss: 0.0280 - acc: 0.9893 - val_loss: 0.0267 - val_acc: 0.9888\n",
            "Epoch 2/30\n",
            "876/876 [==============================] - 4s 5ms/step - loss: 0.0269 - acc: 0.9893 - val_loss: 0.0255 - val_acc: 0.9898\n",
            "Epoch 3/30\n",
            "876/876 [==============================] - 4s 5ms/step - loss: 0.0259 - acc: 0.9896 - val_loss: 0.0243 - val_acc: 0.9900\n",
            "Epoch 4/30\n",
            "876/876 [==============================] - 4s 5ms/step - loss: 0.0250 - acc: 0.9898 - val_loss: 0.0237 - val_acc: 0.9904\n",
            "Epoch 5/30\n",
            "876/876 [==============================] - 4s 4ms/step - loss: 0.0241 - acc: 0.9899 - val_loss: 0.0223 - val_acc: 0.9905\n",
            "Epoch 6/30\n",
            "876/876 [==============================] - 4s 4ms/step - loss: 0.0234 - acc: 0.9901 - val_loss: 0.0214 - val_acc: 0.9905\n",
            "Epoch 7/30\n",
            "876/876 [==============================] - 4s 4ms/step - loss: 0.0228 - acc: 0.9902 - val_loss: 0.0218 - val_acc: 0.9911\n",
            "Epoch 8/30\n",
            "876/876 [==============================] - 4s 4ms/step - loss: 0.0222 - acc: 0.9903 - val_loss: 0.0203 - val_acc: 0.9904\n",
            "Epoch 9/30\n",
            "876/876 [==============================] - 4s 4ms/step - loss: 0.0217 - acc: 0.9905 - val_loss: 0.0201 - val_acc: 0.9911\n",
            "Epoch 10/30\n",
            "876/876 [==============================] - 4s 4ms/step - loss: 0.0215 - acc: 0.9906 - val_loss: 0.0203 - val_acc: 0.9906\n",
            "Epoch 11/30\n",
            "876/876 [==============================] - 4s 4ms/step - loss: 0.0212 - acc: 0.9907 - val_loss: 0.0203 - val_acc: 0.9920\n",
            "Epoch 12/30\n",
            "876/876 [==============================] - 4s 4ms/step - loss: 0.0209 - acc: 0.9906 - val_loss: 0.0189 - val_acc: 0.9910\n",
            "Epoch 13/30\n",
            "876/876 [==============================] - 4s 4ms/step - loss: 0.0205 - acc: 0.9909 - val_loss: 0.0212 - val_acc: 0.9903\n",
            "Epoch 14/30\n",
            "876/876 [==============================] - 4s 4ms/step - loss: 0.0202 - acc: 0.9908 - val_loss: 0.0194 - val_acc: 0.9904\n",
            "Epoch 15/30\n",
            "876/876 [==============================] - 4s 4ms/step - loss: 0.0200 - acc: 0.9909 - val_loss: 0.0189 - val_acc: 0.9905\n",
            "Epoch 16/30\n",
            "876/876 [==============================] - 4s 4ms/step - loss: 0.0198 - acc: 0.9911 - val_loss: 0.0181 - val_acc: 0.9911\n",
            "Epoch 17/30\n",
            "876/876 [==============================] - 4s 4ms/step - loss: 0.0195 - acc: 0.9911 - val_loss: 0.0195 - val_acc: 0.9918\n",
            "Epoch 18/30\n",
            "876/876 [==============================] - 4s 4ms/step - loss: 0.0195 - acc: 0.9910 - val_loss: 0.0221 - val_acc: 0.9930\n",
            "Epoch 19/30\n",
            "876/876 [==============================] - 4s 4ms/step - loss: 0.0193 - acc: 0.9911 - val_loss: 0.0174 - val_acc: 0.9918\n",
            "Epoch 20/30\n",
            "876/876 [==============================] - 4s 4ms/step - loss: 0.0191 - acc: 0.9913 - val_loss: 0.0178 - val_acc: 0.9915\n",
            "Epoch 21/30\n",
            "876/876 [==============================] - 4s 4ms/step - loss: 0.0188 - acc: 0.9914 - val_loss: 0.0172 - val_acc: 0.9909\n",
            "Epoch 22/30\n",
            "876/876 [==============================] - 4s 4ms/step - loss: 0.0188 - acc: 0.9915 - val_loss: 0.0168 - val_acc: 0.9911\n",
            "Epoch 23/30\n",
            "876/876 [==============================] - 4s 4ms/step - loss: 0.0186 - acc: 0.9915 - val_loss: 0.0174 - val_acc: 0.9924\n",
            "Epoch 24/30\n",
            "876/876 [==============================] - 4s 4ms/step - loss: 0.0183 - acc: 0.9917 - val_loss: 0.0177 - val_acc: 0.9925\n",
            "Epoch 25/30\n",
            "876/876 [==============================] - 4s 4ms/step - loss: 0.0181 - acc: 0.9917 - val_loss: 0.0161 - val_acc: 0.9922\n",
            "Epoch 26/30\n",
            "876/876 [==============================] - 4s 4ms/step - loss: 0.0181 - acc: 0.9919 - val_loss: 0.0175 - val_acc: 0.9928\n",
            "Epoch 27/30\n",
            "876/876 [==============================] - 4s 4ms/step - loss: 0.0178 - acc: 0.9920 - val_loss: 0.0157 - val_acc: 0.9924\n",
            "Epoch 28/30\n",
            "876/876 [==============================] - 4s 4ms/step - loss: 0.0176 - acc: 0.9920 - val_loss: 0.0157 - val_acc: 0.9923\n",
            "Epoch 29/30\n",
            "876/876 [==============================] - 4s 4ms/step - loss: 0.0174 - acc: 0.9921 - val_loss: 0.0154 - val_acc: 0.9921\n",
            "Epoch 30/30\n",
            "876/876 [==============================] - 4s 4ms/step - loss: 0.0174 - acc: 0.9922 - val_loss: 0.0155 - val_acc: 0.9922\n",
            "Saved model to disk: 6\n",
            "Epoch 1/30\n",
            "876/876 [==============================] - 4s 4ms/step - loss: 0.0297 - acc: 0.9885 - val_loss: 0.0354 - val_acc: 0.9881\n",
            "Epoch 2/30\n",
            "876/876 [==============================] - 4s 4ms/step - loss: 0.0290 - acc: 0.9890 - val_loss: 0.0302 - val_acc: 0.9877\n",
            "Epoch 3/30\n",
            "876/876 [==============================] - 4s 4ms/step - loss: 0.0282 - acc: 0.9890 - val_loss: 0.0291 - val_acc: 0.9885\n",
            "Epoch 4/30\n",
            "876/876 [==============================] - 4s 4ms/step - loss: 0.0274 - acc: 0.9893 - val_loss: 0.0282 - val_acc: 0.9885\n",
            "Epoch 5/30\n",
            "876/876 [==============================] - 4s 4ms/step - loss: 0.0267 - acc: 0.9893 - val_loss: 0.0276 - val_acc: 0.9888\n",
            "Epoch 6/30\n",
            "876/876 [==============================] - 4s 4ms/step - loss: 0.0259 - acc: 0.9896 - val_loss: 0.0272 - val_acc: 0.9884\n",
            "Epoch 7/30\n",
            "876/876 [==============================] - 4s 4ms/step - loss: 0.0253 - acc: 0.9899 - val_loss: 0.0274 - val_acc: 0.9890\n",
            "Epoch 8/30\n",
            "876/876 [==============================] - 4s 4ms/step - loss: 0.0246 - acc: 0.9898 - val_loss: 0.0258 - val_acc: 0.9889\n",
            "Epoch 9/30\n",
            "876/876 [==============================] - 4s 4ms/step - loss: 0.0238 - acc: 0.9901 - val_loss: 0.0260 - val_acc: 0.9893\n",
            "Epoch 10/30\n",
            "876/876 [==============================] - 4s 4ms/step - loss: 0.0232 - acc: 0.9902 - val_loss: 0.0250 - val_acc: 0.9885\n",
            "Epoch 11/30\n",
            "876/876 [==============================] - 4s 4ms/step - loss: 0.0226 - acc: 0.9903 - val_loss: 0.0246 - val_acc: 0.9902\n",
            "Epoch 12/30\n",
            "876/876 [==============================] - 4s 4ms/step - loss: 0.0221 - acc: 0.9906 - val_loss: 0.0230 - val_acc: 0.9895\n",
            "Epoch 13/30\n",
            "876/876 [==============================] - 4s 4ms/step - loss: 0.0217 - acc: 0.9905 - val_loss: 0.0241 - val_acc: 0.9887\n",
            "Epoch 14/30\n",
            "876/876 [==============================] - 4s 4ms/step - loss: 0.0216 - acc: 0.9905 - val_loss: 0.0230 - val_acc: 0.9892\n",
            "Epoch 15/30\n",
            "876/876 [==============================] - 4s 4ms/step - loss: 0.0212 - acc: 0.9908 - val_loss: 0.0216 - val_acc: 0.9899\n",
            "Epoch 16/30\n",
            "876/876 [==============================] - 4s 4ms/step - loss: 0.0208 - acc: 0.9908 - val_loss: 0.0212 - val_acc: 0.9896\n",
            "Epoch 17/30\n",
            "876/876 [==============================] - 4s 5ms/step - loss: 0.0205 - acc: 0.9909 - val_loss: 0.0218 - val_acc: 0.9908\n",
            "Epoch 18/30\n",
            "876/876 [==============================] - 5s 6ms/step - loss: 0.0202 - acc: 0.9910 - val_loss: 0.0206 - val_acc: 0.9905\n",
            "Epoch 19/30\n",
            "876/876 [==============================] - 4s 4ms/step - loss: 0.0201 - acc: 0.9911 - val_loss: 0.0206 - val_acc: 0.9903\n",
            "Epoch 20/30\n",
            "876/876 [==============================] - 4s 4ms/step - loss: 0.0199 - acc: 0.9912 - val_loss: 0.0204 - val_acc: 0.9908\n",
            "Epoch 21/30\n",
            "876/876 [==============================] - 4s 4ms/step - loss: 0.0197 - acc: 0.9911 - val_loss: 0.0209 - val_acc: 0.9892\n",
            "Epoch 22/30\n",
            "876/876 [==============================] - 4s 4ms/step - loss: 0.0195 - acc: 0.9912 - val_loss: 0.0205 - val_acc: 0.9898\n",
            "Epoch 23/30\n",
            "876/876 [==============================] - 4s 4ms/step - loss: 0.0192 - acc: 0.9913 - val_loss: 0.0228 - val_acc: 0.9917\n",
            "Epoch 24/30\n",
            "876/876 [==============================] - 4s 5ms/step - loss: 0.0191 - acc: 0.9914 - val_loss: 0.0196 - val_acc: 0.9902\n",
            "Epoch 25/30\n",
            "876/876 [==============================] - 4s 4ms/step - loss: 0.0190 - acc: 0.9915 - val_loss: 0.0190 - val_acc: 0.9902\n",
            "Epoch 26/30\n",
            "876/876 [==============================] - 4s 4ms/step - loss: 0.0187 - acc: 0.9916 - val_loss: 0.0200 - val_acc: 0.9903\n",
            "Epoch 27/30\n",
            "876/876 [==============================] - 4s 4ms/step - loss: 0.0188 - acc: 0.9917 - val_loss: 0.0193 - val_acc: 0.9913\n",
            "Epoch 28/30\n",
            "876/876 [==============================] - 4s 4ms/step - loss: 0.0185 - acc: 0.9916 - val_loss: 0.0194 - val_acc: 0.9911\n",
            "Epoch 29/30\n",
            "876/876 [==============================] - 4s 4ms/step - loss: 0.0184 - acc: 0.9917 - val_loss: 0.0184 - val_acc: 0.9903\n",
            "Epoch 30/30\n",
            "876/876 [==============================] - 4s 4ms/step - loss: 0.0183 - acc: 0.9917 - val_loss: 0.0201 - val_acc: 0.9916\n",
            "Saved model to disk: 7\n",
            "Epoch 1/30\n",
            "876/876 [==============================] - 4s 4ms/step - loss: 0.0295 - acc: 0.9883 - val_loss: 0.0278 - val_acc: 0.9888\n",
            "Epoch 2/30\n",
            "876/876 [==============================] - 4s 4ms/step - loss: 0.0288 - acc: 0.9887 - val_loss: 0.0277 - val_acc: 0.9884\n",
            "Epoch 3/30\n",
            "876/876 [==============================] - 4s 4ms/step - loss: 0.0281 - acc: 0.9888 - val_loss: 0.0268 - val_acc: 0.9885\n",
            "Epoch 4/30\n",
            "876/876 [==============================] - 4s 4ms/step - loss: 0.0275 - acc: 0.9890 - val_loss: 0.0254 - val_acc: 0.9900\n",
            "Epoch 5/30\n",
            "876/876 [==============================] - 4s 4ms/step - loss: 0.0269 - acc: 0.9891 - val_loss: 0.0248 - val_acc: 0.9895\n",
            "Epoch 6/30\n",
            "876/876 [==============================] - 4s 4ms/step - loss: 0.0261 - acc: 0.9892 - val_loss: 0.0242 - val_acc: 0.9900\n",
            "Epoch 7/30\n",
            "876/876 [==============================] - 4s 4ms/step - loss: 0.0253 - acc: 0.9895 - val_loss: 0.0233 - val_acc: 0.9903\n",
            "Epoch 8/30\n",
            "876/876 [==============================] - 4s 4ms/step - loss: 0.0248 - acc: 0.9895 - val_loss: 0.0229 - val_acc: 0.9905\n",
            "Epoch 9/30\n",
            "876/876 [==============================] - 4s 4ms/step - loss: 0.0242 - acc: 0.9898 - val_loss: 0.0220 - val_acc: 0.9906\n",
            "Epoch 10/30\n",
            "876/876 [==============================] - 4s 4ms/step - loss: 0.0237 - acc: 0.9897 - val_loss: 0.0222 - val_acc: 0.9911\n",
            "Epoch 11/30\n",
            "876/876 [==============================] - 4s 4ms/step - loss: 0.0232 - acc: 0.9901 - val_loss: 0.0214 - val_acc: 0.9905\n",
            "Epoch 12/30\n",
            "876/876 [==============================] - 4s 4ms/step - loss: 0.0227 - acc: 0.9901 - val_loss: 0.0206 - val_acc: 0.9912\n",
            "Epoch 13/30\n",
            "876/876 [==============================] - 4s 4ms/step - loss: 0.0222 - acc: 0.9902 - val_loss: 0.0209 - val_acc: 0.9920\n",
            "Epoch 14/30\n",
            "876/876 [==============================] - 4s 4ms/step - loss: 0.0219 - acc: 0.9904 - val_loss: 0.0198 - val_acc: 0.9909\n",
            "Epoch 15/30\n",
            "876/876 [==============================] - 4s 4ms/step - loss: 0.0215 - acc: 0.9904 - val_loss: 0.0215 - val_acc: 0.9903\n",
            "Epoch 16/30\n",
            "876/876 [==============================] - 4s 4ms/step - loss: 0.0213 - acc: 0.9905 - val_loss: 0.0190 - val_acc: 0.9910\n",
            "Epoch 17/30\n",
            "876/876 [==============================] - 4s 4ms/step - loss: 0.0210 - acc: 0.9906 - val_loss: 0.0189 - val_acc: 0.9915\n",
            "Epoch 18/30\n",
            "876/876 [==============================] - 4s 4ms/step - loss: 0.0205 - acc: 0.9905 - val_loss: 0.0194 - val_acc: 0.9927\n",
            "Epoch 19/30\n",
            "876/876 [==============================] - 4s 4ms/step - loss: 0.0204 - acc: 0.9908 - val_loss: 0.0192 - val_acc: 0.9928\n",
            "Epoch 20/30\n",
            "876/876 [==============================] - 4s 4ms/step - loss: 0.0203 - acc: 0.9907 - val_loss: 0.0183 - val_acc: 0.9927\n",
            "Epoch 21/30\n",
            "876/876 [==============================] - 4s 4ms/step - loss: 0.0199 - acc: 0.9908 - val_loss: 0.0180 - val_acc: 0.9914\n",
            "Epoch 22/30\n",
            "876/876 [==============================] - 4s 4ms/step - loss: 0.0197 - acc: 0.9909 - val_loss: 0.0178 - val_acc: 0.9928\n",
            "Epoch 23/30\n",
            "876/876 [==============================] - 4s 4ms/step - loss: 0.0195 - acc: 0.9910 - val_loss: 0.0176 - val_acc: 0.9929\n",
            "Epoch 24/30\n",
            "876/876 [==============================] - 4s 4ms/step - loss: 0.0193 - acc: 0.9911 - val_loss: 0.0176 - val_acc: 0.9919\n",
            "Epoch 25/30\n",
            "876/876 [==============================] - 4s 5ms/step - loss: 0.0190 - acc: 0.9913 - val_loss: 0.0171 - val_acc: 0.9918\n",
            "Epoch 26/30\n",
            "876/876 [==============================] - 5s 5ms/step - loss: 0.0190 - acc: 0.9912 - val_loss: 0.0176 - val_acc: 0.9926\n",
            "Epoch 27/30\n",
            "876/876 [==============================] - 4s 5ms/step - loss: 0.0187 - acc: 0.9913 - val_loss: 0.0178 - val_acc: 0.9921\n",
            "Epoch 28/30\n",
            "876/876 [==============================] - 4s 4ms/step - loss: 0.0186 - acc: 0.9913 - val_loss: 0.0164 - val_acc: 0.9922\n",
            "Epoch 29/30\n",
            "876/876 [==============================] - 4s 4ms/step - loss: 0.0183 - acc: 0.9917 - val_loss: 0.0188 - val_acc: 0.9909\n",
            "Epoch 30/30\n",
            "876/876 [==============================] - 4s 4ms/step - loss: 0.0183 - acc: 0.9916 - val_loss: 0.0161 - val_acc: 0.9929\n",
            "Saved model to disk: 8\n"
          ],
          "name": "stdout"
        }
      ]
    },
    {
      "cell_type": "markdown",
      "metadata": {
        "id": "dRQkbE65Kf8T"
      },
      "source": [
        "# Predict with test_data #"
      ]
    },
    {
      "cell_type": "code",
      "metadata": {
        "id": "wIOsCtbKgCjt"
      },
      "source": [
        "predictions=np.zeros((nNets, y_test.shape[0]))"
      ],
      "execution_count": 42,
      "outputs": []
    },
    {
      "cell_type": "code",
      "metadata": {
        "id": "sZdriblbgL0b"
      },
      "source": [
        "for i in range(nNets):\n",
        "  if i<nNetsForConv1d:\n",
        "    predictions[i]=np.ravel(model[i].predict(X_1d_test))\n",
        "  elif i>=nNetsForConv1d and i< nNetsForConv1d+nNetsForConv2d:\n",
        "    predictions[i]=np.ravel(model[i].predict(X_2d_test))\n",
        "  else:\n",
        "    predictions[i]=np.ravel(model[i].predict(X_LSTM_test))\n",
        "  "
      ],
      "execution_count": 43,
      "outputs": []
    },
    {
      "cell_type": "markdown",
      "metadata": {
        "id": "cDGa08_jZ3c1"
      },
      "source": [
        "\n",
        "\n",
        "1.   Ensemble with Average voting\n"
      ]
    },
    {
      "cell_type": "markdown",
      "metadata": {
        "id": "Qa7yEu-umdUw"
      },
      "source": [
        "For average voting, the float value of predictions will be averaged.\n",
        "Then if the average of each row is greater than 0.5, it will be malicious (value 1), if not, benign (value 0).\n"
      ]
    },
    {
      "cell_type": "code",
      "metadata": {
        "id": "9Lsk3XDSln25"
      },
      "source": [
        "prediction_average_voting=(predictions.mean(axis=0)>0.5).astype(np.int16)"
      ],
      "execution_count": 44,
      "outputs": []
    },
    {
      "cell_type": "markdown",
      "metadata": {
        "id": "QdN3emAim36h"
      },
      "source": [
        "This prediction will be compared with y_test (real label)."
      ]
    },
    {
      "cell_type": "code",
      "metadata": {
        "colab": {
          "base_uri": "https://localhost:8080/"
        },
        "id": "kmYNjseImPlq",
        "outputId": "fc7e9c22-dfac-4c4f-e341-ef3e9cee4a24"
      },
      "source": [
        "acc_average_voting=(y_test==prediction_average_voting).sum()/len(y_test)\n",
        "acc_average_voting_in_percent=round(acc_average_voting*100, 2)\n",
        "print(acc_average_voting_in_percent)"
      ],
      "execution_count": 45,
      "outputs": [
        {
          "output_type": "stream",
          "text": [
            "99.76\n"
          ],
          "name": "stdout"
        }
      ]
    },
    {
      "cell_type": "markdown",
      "metadata": {
        "id": "KRwULH9zaRq0"
      },
      "source": [
        "\n",
        "\n",
        "2.   Ensemble with Majority voting\n",
        "\n"
      ]
    },
    {
      "cell_type": "markdown",
      "metadata": {
        "id": "OkCT2sf7nAix"
      },
      "source": [
        "For majority voting, the prediction from CNN models will be set as 0 (benign), and as 1(malicious).\n",
        "The condition is if the value is greater than 0.5"
      ]
    },
    {
      "cell_type": "code",
      "metadata": {
        "id": "Yfl6Zs4AhAYM"
      },
      "source": [
        "predictions_int=(predictions>0.5).astype(np.int16)"
      ],
      "execution_count": 46,
      "outputs": []
    },
    {
      "cell_type": "markdown",
      "metadata": {
        "id": "2QaS-Z1hnRzQ"
      },
      "source": [
        "this values are averaged. if the average of each row is greater than 0.5, the majority will be 1(malicious) because number of malicious prediction will be greater than number of benign predictions for each row.\n",
        "\n",
        "E.g. a row has prediction of [0,1,0,1,1,0], the average is 0.6666, so 1 is the majority."
      ]
    },
    {
      "cell_type": "code",
      "metadata": {
        "id": "PHJ6u18P12pS"
      },
      "source": [
        "prediction_majority_voting=(predictions_int.mean(axis=0)>0.5).astype(np.int16)"
      ],
      "execution_count": 48,
      "outputs": []
    },
    {
      "cell_type": "code",
      "metadata": {
        "colab": {
          "base_uri": "https://localhost:8080/"
        },
        "id": "jySZDiDw12pW",
        "outputId": "519c8858-3d25-4c19-d053-360088a4c494"
      },
      "source": [
        "acc_majority_voting=(y_test==prediction_majority_voting).sum()/len(y_test)\n",
        "acc_majority_voting_in_percent=round(acc_majority_voting*100, 2)\n",
        "print(acc_majority_voting_in_percent)"
      ],
      "execution_count": 49,
      "outputs": [
        {
          "output_type": "stream",
          "text": [
            "99.75\n"
          ],
          "name": "stdout"
        }
      ]
    },
    {
      "cell_type": "markdown",
      "metadata": {
        "id": "TlsjqATboVlA"
      },
      "source": [
        "# Conclusion"
      ]
    },
    {
      "cell_type": "markdown",
      "metadata": {
        "id": "SrgTM7hfoY34"
      },
      "source": [
        ""
      ]
    },
    {
      "cell_type": "markdown",
      "metadata": {
        "id": "_3Y9w6tqopRQ"
      },
      "source": [
        "Ensemble of 2 diffenent kind of CNN models, Conv1d, Conv2d delievered very gool prediction, although it has a little calculation time.\n",
        "With 3 Con1d and 3 Conv2d models, a high accuracy of 99.78% can be reached.\n",
        "Average voting ensemble delivers a slightly higher accuracy"
      ]
    },
    {
      "cell_type": "code",
      "metadata": {
        "id": "xNqU6-bqNc0E"
      },
      "source": [
        ""
      ],
      "execution_count": null,
      "outputs": []
    }
  ]
}